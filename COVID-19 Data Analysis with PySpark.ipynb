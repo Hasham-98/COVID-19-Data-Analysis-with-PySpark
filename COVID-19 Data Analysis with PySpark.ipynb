{
 "cells": [
  {
   "cell_type": "markdown",
   "id": "05f1e8db",
   "metadata": {},
   "source": [
    "# **Labs 1 and 2 PySpark:**\n",
    "\n",
    "In these labs we will be using the \"[[NeurIPS 2020] Data Science for COVID-19 (DS4C)](https://www.kaggle.com/datasets/kimjihoo/coronavirusdataset?select=PatientInfo.csv)\" dataset, retrieved from [Kaggle](https://www.kaggle.com/) on 1/6/2022, for educational non commercial purpose, License\n",
    "[CC BY-NC-SA 4.0\n",
    "](https://creativecommons.org/licenses/by-nc-sa/4.0/)\n",
    "\n",
    "\n",
    "The csv file that we will be using in this lab is **PatientInfo**."
   ]
  },
  {
   "cell_type": "markdown",
   "id": "3ac9bbf0",
   "metadata": {},
   "source": [
    "## PatientInfo.csv\n",
    "\n",
    "**patient_id**\n",
    "the ID of the patient\n",
    "\n",
    "**sex**\n",
    "the sex of the patient\n",
    "\n",
    "**age**\n",
    "the age of the patient\n",
    "\n",
    "**country**\n",
    "the country of the patient\n",
    "\n",
    "**province**\n",
    "the province of the patient\n",
    "\n",
    "**city**\n",
    "the city of the patient\n",
    "\n",
    "**infection_case**\n",
    "the case of infection\n",
    "\n",
    "**infected_by**\n",
    "the ID of who infected the patient\n",
    "\n",
    "\n",
    "**contact_number**\n",
    "the number of contacts with people\n",
    "\n",
    "**symptom_onset_date**\n",
    "the date of symptom onset\n",
    "\n",
    "**confirmed_date**\n",
    "the date of being confirmed\n",
    "\n",
    "**released_date**\n",
    "the date of being released\n",
    "\n",
    "**deceased_date**\n",
    "the date of being deceased\n",
    "\n",
    "**state**\n",
    "isolated / released / deceased"
   ]
  },
  {
   "cell_type": "markdown",
   "id": "34b6f619",
   "metadata": {},
   "source": [
    "### Import the pyspark and check it's version"
   ]
  },
  {
   "cell_type": "code",
   "execution_count": 1,
   "id": "29fe2ddc",
   "metadata": {},
   "outputs": [
    {
     "data": {
      "text/html": [
       "\n",
       "            <div>\n",
       "                <p><b>SparkSession - hive</b></p>\n",
       "                \n",
       "        <div>\n",
       "            <p><b>SparkContext</b></p>\n",
       "\n",
       "            <p><a href=\"http://10.0.2.15:4041\">Spark UI</a></p>\n",
       "\n",
       "            <dl>\n",
       "              <dt>Version</dt>\n",
       "                <dd><code>v3.5.2</code></dd>\n",
       "              <dt>Master</dt>\n",
       "                <dd><code>local[*]</code></dd>\n",
       "              <dt>AppName</dt>\n",
       "                <dd><code>PySparkShell</code></dd>\n",
       "            </dl>\n",
       "        </div>\n",
       "        \n",
       "            </div>\n",
       "        "
      ],
      "text/plain": [
       "<pyspark.sql.session.SparkSession at 0x7a50d808ee40>"
      ]
     },
     "execution_count": 1,
     "metadata": {},
     "output_type": "execute_result"
    },
    {
     "name": "stderr",
     "output_type": "stream",
     "text": [
      "24/08/28 13:41:30 WARN GarbageCollectionMetrics: To enable non-built-in garbage collector(s) List(G1 Concurrent GC), users should configure it(them) to spark.eventLog.gcMetrics.youngGenerationGarbageCollectors or spark.eventLog.gcMetrics.oldGenerationGarbageCollectors\n"
     ]
    }
   ],
   "source": [
    "spark"
   ]
  },
  {
   "cell_type": "markdown",
   "id": "70c0fc8e",
   "metadata": {},
   "source": [
    "### Import and create SparkSession"
   ]
  },
  {
   "cell_type": "code",
   "execution_count": 2,
   "id": "0e52aaa6-f922-4fd5-afcf-0212ac3002ca",
   "metadata": {},
   "outputs": [],
   "source": [
    "import findspark\n",
    "findspark.init()\n",
    "from pyspark.sql import SparkSession\n",
    "spark = SparkSession.builder.getOrCreate()"
   ]
  },
  {
   "cell_type": "markdown",
   "id": "7356d68d",
   "metadata": {},
   "source": [
    "### Load the PatientInfo.csv file and show the first 5 rows"
   ]
  },
  {
   "cell_type": "code",
   "execution_count": 3,
   "id": "d5185728",
   "metadata": {},
   "outputs": [
    {
     "data": {
      "text/html": [
       "<style>pre { white-space: pre !important; }</style>"
      ],
      "text/plain": [
       "<IPython.core.display.HTML object>"
      ]
     },
     "metadata": {},
     "output_type": "display_data"
    }
   ],
   "source": [
    "from IPython.display import display, HTML\n",
    "display(HTML(\"<style>pre { white-space: pre !important; }</style>\"))"
   ]
  },
  {
   "cell_type": "code",
   "execution_count": 4,
   "id": "2196bca5",
   "metadata": {},
   "outputs": [],
   "source": [
    "df_p = spark.read.format('csv')\\\n",
    ".option('inferScheam', 'true')\\\n",
    ".option('header', 'true')\\\n",
    ".load('PatientInfo.csv')"
   ]
  },
  {
   "cell_type": "code",
   "execution_count": 5,
   "id": "9e23a639-bf83-4b57-895f-fe1ad137cde6",
   "metadata": {},
   "outputs": [
    {
     "data": {
      "text/plain": [
       "DataFrame[patient_id: string, sex: string, age: string, country: string, province: string, city: string, infection_case: string, infected_by: string, contact_number: string, symptom_onset_date: string, confirmed_date: string, released_date: string, deceased_date: string, state: string]"
      ]
     },
     "execution_count": 5,
     "metadata": {},
     "output_type": "execute_result"
    }
   ],
   "source": [
    "df_p.cache()"
   ]
  },
  {
   "cell_type": "code",
   "execution_count": 6,
   "id": "c84261f9-c05f-45df-b341-03ca46113014",
   "metadata": {},
   "outputs": [
    {
     "name": "stdout",
     "output_type": "stream",
     "text": [
      "+----------+------+---+-------+--------+------------+--------------------+-----------+--------------+------------------+--------------+-------------+-------------+--------+\n",
      "|patient_id|   sex|age|country|province|        city|      infection_case|infected_by|contact_number|symptom_onset_date|confirmed_date|released_date|deceased_date|   state|\n",
      "+----------+------+---+-------+--------+------------+--------------------+-----------+--------------+------------------+--------------+-------------+-------------+--------+\n",
      "|1000000001|  male|50s|  Korea|   Seoul|  Gangseo-gu|     overseas inflow|       NULL|            75|        2020-01-22|    2020-01-23|   2020-02-05|         NULL|released|\n",
      "|1000000002|  male|30s|  Korea|   Seoul| Jungnang-gu|     overseas inflow|       NULL|            31|              NULL|    2020-01-30|   2020-03-02|         NULL|released|\n",
      "|1000000003|  male|50s|  Korea|   Seoul|   Jongno-gu|contact with patient| 2002000001|            17|              NULL|    2020-01-30|   2020-02-19|         NULL|released|\n",
      "|1000000004|  male|20s|  Korea|   Seoul|     Mapo-gu|     overseas inflow|       NULL|             9|        2020-01-26|    2020-01-30|   2020-02-15|         NULL|released|\n",
      "|1000000005|female|20s|  Korea|   Seoul| Seongbuk-gu|contact with patient| 1000000002|             2|              NULL|    2020-01-31|   2020-02-24|         NULL|released|\n",
      "|1000000006|female|50s|  Korea|   Seoul|   Jongno-gu|contact with patient| 1000000003|            43|              NULL|    2020-01-31|   2020-02-19|         NULL|released|\n",
      "|1000000007|  male|20s|  Korea|   Seoul|   Jongno-gu|contact with patient| 1000000003|             0|              NULL|    2020-01-31|   2020-02-10|         NULL|released|\n",
      "|1000000008|  male|20s|  Korea|   Seoul|         etc|     overseas inflow|       NULL|             0|              NULL|    2020-02-02|   2020-02-24|         NULL|released|\n",
      "|1000000009|  male|30s|  Korea|   Seoul|   Songpa-gu|     overseas inflow|       NULL|            68|              NULL|    2020-02-05|   2020-02-21|         NULL|released|\n",
      "|1000000010|female|60s|  Korea|   Seoul| Seongbuk-gu|contact with patient| 1000000003|             6|              NULL|    2020-02-05|   2020-02-29|         NULL|released|\n",
      "|1000000011|female|50s|  China|   Seoul|Seodaemun-gu|     overseas inflow|       NULL|            23|              NULL|    2020-02-06|   2020-02-29|         NULL|released|\n",
      "|1000000012|  male|20s|  Korea|   Seoul|         etc|     overseas inflow|       NULL|             0|              NULL|    2020-02-07|   2020-02-27|         NULL|released|\n",
      "|1000000013|  male|80s|  Korea|   Seoul|   Jongno-gu|contact with patient| 1000000017|           117|              NULL|    2020-02-16|         NULL|         NULL|deceased|\n",
      "|1000000014|female|60s|  Korea|   Seoul|   Jongno-gu|contact with patient| 1000000013|            27|        2020-02-06|    2020-02-16|   2020-03-12|         NULL|released|\n",
      "|1000000015|  male|70s|  Korea|   Seoul|Seongdong-gu|    Seongdong-gu APT|       NULL|             8|        2020-02-11|    2020-02-19|         NULL|         NULL|released|\n",
      "|1000000016|  male|70s|  Korea|   Seoul|   Jongno-gu|contact with patient| 1000000017|          NULL|              NULL|    2020-02-19|   2020-03-11|         NULL|released|\n",
      "|1000000017|  male|70s|  Korea|   Seoul|   Jongno-gu|contact with patient| 1000000003|          NULL|              NULL|    2020-02-20|   2020-03-01|         NULL|released|\n",
      "|1000000018|  male|20s|  Korea|   Seoul|         etc|                 etc|       NULL|          NULL|              NULL|    2020-02-20|         NULL|         NULL|released|\n",
      "|1000000019|female|70s|  Korea|   Seoul|   Jongno-gu|contact with patient| 1000000021|          NULL|              NULL|    2020-02-20|   2020-03-08|         NULL|released|\n",
      "|1000000020|female|70s|  Korea|   Seoul|Seongdong-gu|    Seongdong-gu APT| 1000000015|          NULL|              NULL|    2020-02-20|         NULL|         NULL|released|\n",
      "+----------+------+---+-------+--------+------------+--------------------+-----------+--------------+------------------+--------------+-------------+-------------+--------+\n",
      "only showing top 20 rows\n",
      "\n"
     ]
    }
   ],
   "source": [
    "df_p.show()"
   ]
  },
  {
   "cell_type": "markdown",
   "id": "4d43bdca",
   "metadata": {},
   "source": [
    "### Display the schema of the dataset"
   ]
  },
  {
   "cell_type": "code",
   "execution_count": 7,
   "id": "c51a2507",
   "metadata": {},
   "outputs": [
    {
     "name": "stdout",
     "output_type": "stream",
     "text": [
      "root\n",
      " |-- patient_id: string (nullable = true)\n",
      " |-- sex: string (nullable = true)\n",
      " |-- age: string (nullable = true)\n",
      " |-- country: string (nullable = true)\n",
      " |-- province: string (nullable = true)\n",
      " |-- city: string (nullable = true)\n",
      " |-- infection_case: string (nullable = true)\n",
      " |-- infected_by: string (nullable = true)\n",
      " |-- contact_number: string (nullable = true)\n",
      " |-- symptom_onset_date: string (nullable = true)\n",
      " |-- confirmed_date: string (nullable = true)\n",
      " |-- released_date: string (nullable = true)\n",
      " |-- deceased_date: string (nullable = true)\n",
      " |-- state: string (nullable = true)\n",
      "\n"
     ]
    }
   ],
   "source": [
    "df_p.printSchema()"
   ]
  },
  {
   "cell_type": "markdown",
   "id": "3114e1dd",
   "metadata": {},
   "source": [
    "### Display the statistical summary"
   ]
  },
  {
   "cell_type": "code",
   "execution_count": 8,
   "id": "18d63947",
   "metadata": {},
   "outputs": [
    {
     "name": "stderr",
     "output_type": "stream",
     "text": [
      "24/08/28 13:41:55 WARN SparkStringUtils: Truncated the string representation of a plan since it was too large. This behavior can be adjusted by setting 'spark.sql.debug.maxToStringFields'.\n",
      "[Stage 3:>                                                          (0 + 1) / 1]\r"
     ]
    },
    {
     "name": "stdout",
     "output_type": "stream",
     "text": [
      "+-------+--------------------+------+----+----------+--------+--------------+--------------------+--------------------+--------------------+------------------+--------------+-------------+-------------+--------+\n",
      "|summary|          patient_id|   sex| age|   country|province|          city|      infection_case|         infected_by|      contact_number|symptom_onset_date|confirmed_date|released_date|deceased_date|   state|\n",
      "+-------+--------------------+------+----+----------+--------+--------------+--------------------+--------------------+--------------------+------------------+--------------+-------------+-------------+--------+\n",
      "|  count|                5165|  4043|3785|      5165|    5165|          5071|                4246|                1346|                 791|               690|          5162|         1587|           66|    5165|\n",
      "|   mean|2.8636345618679576E9|  NULL|NULL|      NULL|    NULL|          NULL|                NULL|2.2845944015643125E9|1.6772572523506988E7|              NULL|          NULL|         NULL|         NULL|    NULL|\n",
      "| stddev| 2.074210725277473E9|  NULL|NULL|      NULL|    NULL|          NULL|                NULL|1.5265072953383324E9| 3.093097580985502E8|              NULL|          NULL|         NULL|         NULL|    NULL|\n",
      "|    min|          1000000001|female|  0s|Bangladesh|   Busan|     Andong-si|Anyang Gunpo Past...|          1000000002|                   -|                  |    2020-01-20|   2020-02-05|   2020-02-19|deceased|\n",
      "|    25%|       1.000001291E9|  NULL|NULL|      NULL|    NULL|          NULL|                NULL|       1.400000102E9|                 2.0|              NULL|          NULL|         NULL|         NULL|    NULL|\n",
      "|    50%|       2.000000369E9|  NULL|NULL|      NULL|    NULL|          NULL|                NULL|       2.000000167E9|                 4.0|              NULL|          NULL|         NULL|         NULL|    NULL|\n",
      "|    75%|       6.001000115E9|  NULL|NULL|      NULL|    NULL|          NULL|                NULL|       2.000000975E9|                14.0|              NULL|          NULL|         NULL|         NULL|    NULL|\n",
      "|    max|          7000000019|  male| 90s|   Vietnam|   Ulsan|sankyeock-dong|     overseas inflow|          7000000009|                  95|        2020-06-28|    2020-06-30|   2020-06-28|   2020-05-25|released|\n",
      "+-------+--------------------+------+----+----------+--------+--------------+--------------------+--------------------+--------------------+------------------+--------------+-------------+-------------+--------+\n",
      "\n"
     ]
    },
    {
     "name": "stderr",
     "output_type": "stream",
     "text": [
      "                                                                                \r"
     ]
    }
   ],
   "source": [
    "df_summary = df_p.summary()\n",
    "df_summary.show()"
   ]
  },
  {
   "cell_type": "markdown",
   "id": "c78859b9",
   "metadata": {},
   "source": [
    "### Using the state column.\n",
    "### How many people survived (released), and how many didn't survive (isolated/deceased)?"
   ]
  },
  {
   "cell_type": "code",
   "execution_count": 9,
   "id": "63e84045",
   "metadata": {},
   "outputs": [
    {
     "name": "stdout",
     "output_type": "stream",
     "text": [
      "+--------+-----+\n",
      "|   state|count|\n",
      "+--------+-----+\n",
      "|isolated| 2158|\n",
      "|released| 2929|\n",
      "|deceased|   78|\n",
      "+--------+-----+\n",
      "\n"
     ]
    }
   ],
   "source": [
    "state = df_p.groupBy(\"state\").count()\n",
    "state.show()"
   ]
  },
  {
   "cell_type": "markdown",
   "id": "59c16346",
   "metadata": {},
   "source": [
    "### Display the number of null values in each column"
   ]
  },
  {
   "cell_type": "code",
   "execution_count": 10,
   "id": "fe0563de-fcb6-4042-8a57-221f2b196c54",
   "metadata": {},
   "outputs": [],
   "source": [
    "from pyspark.sql.functions import *\n",
    "import pyspark.sql.functions as F"
   ]
  },
  {
   "cell_type": "code",
   "execution_count": 11,
   "id": "c61ababe-d524-4182-b7a1-5d099c8d0c16",
   "metadata": {},
   "outputs": [
    {
     "name": "stdout",
     "output_type": "stream",
     "text": [
      "patient_id 0\n",
      "sex 1122\n",
      "age 1380\n",
      "country 0\n",
      "province 0\n",
      "city 94\n",
      "infection_case 919\n",
      "infected_by 3819\n",
      "contact_number 4374\n",
      "symptom_onset_date 4475\n",
      "confirmed_date 3\n",
      "released_date 3578\n",
      "deceased_date 5099\n",
      "state 0\n"
     ]
    }
   ],
   "source": [
    "null_dict = {}\n",
    "for i in df_p.columns:\n",
    "    null_c = df_p.filter(col(i).isNull()).count()\n",
    "    null_dict [i] = null_c\n",
    "\n",
    "for col, num in null_dict.items():\n",
    "    print(col, num)\n"
   ]
  },
  {
   "cell_type": "markdown",
   "id": "c3133f5a",
   "metadata": {},
   "source": [
    "## Data preprocessing"
   ]
  },
  {
   "cell_type": "markdown",
   "id": "ec32fa0c",
   "metadata": {},
   "source": [
    "### Fill the nulls in the deceased_date with the released_date. \n",
    "- You can use <b>coalesce</b> function"
   ]
  },
  {
   "cell_type": "code",
   "execution_count": 12,
   "id": "d5ba64f9",
   "metadata": {},
   "outputs": [
    {
     "name": "stdout",
     "output_type": "stream",
     "text": [
      "+----------+------+---+-------+--------+------------+--------------------+-----------+--------------+------------------+--------------+-------------+-------------+--------+\n",
      "|patient_id|   sex|age|country|province|        city|      infection_case|infected_by|contact_number|symptom_onset_date|confirmed_date|released_date|deceased_date|   state|\n",
      "+----------+------+---+-------+--------+------------+--------------------+-----------+--------------+------------------+--------------+-------------+-------------+--------+\n",
      "|1000000001|  male|50s|  Korea|   Seoul|  Gangseo-gu|     overseas inflow|       NULL|            75|        2020-01-22|    2020-01-23|   2020-02-05|   2020-02-05|released|\n",
      "|1000000002|  male|30s|  Korea|   Seoul| Jungnang-gu|     overseas inflow|       NULL|            31|              NULL|    2020-01-30|   2020-03-02|   2020-03-02|released|\n",
      "|1000000003|  male|50s|  Korea|   Seoul|   Jongno-gu|contact with patient| 2002000001|            17|              NULL|    2020-01-30|   2020-02-19|   2020-02-19|released|\n",
      "|1000000004|  male|20s|  Korea|   Seoul|     Mapo-gu|     overseas inflow|       NULL|             9|        2020-01-26|    2020-01-30|   2020-02-15|   2020-02-15|released|\n",
      "|1000000005|female|20s|  Korea|   Seoul| Seongbuk-gu|contact with patient| 1000000002|             2|              NULL|    2020-01-31|   2020-02-24|   2020-02-24|released|\n",
      "|1000000006|female|50s|  Korea|   Seoul|   Jongno-gu|contact with patient| 1000000003|            43|              NULL|    2020-01-31|   2020-02-19|   2020-02-19|released|\n",
      "|1000000007|  male|20s|  Korea|   Seoul|   Jongno-gu|contact with patient| 1000000003|             0|              NULL|    2020-01-31|   2020-02-10|   2020-02-10|released|\n",
      "|1000000008|  male|20s|  Korea|   Seoul|         etc|     overseas inflow|       NULL|             0|              NULL|    2020-02-02|   2020-02-24|   2020-02-24|released|\n",
      "|1000000009|  male|30s|  Korea|   Seoul|   Songpa-gu|     overseas inflow|       NULL|            68|              NULL|    2020-02-05|   2020-02-21|   2020-02-21|released|\n",
      "|1000000010|female|60s|  Korea|   Seoul| Seongbuk-gu|contact with patient| 1000000003|             6|              NULL|    2020-02-05|   2020-02-29|   2020-02-29|released|\n",
      "|1000000011|female|50s|  China|   Seoul|Seodaemun-gu|     overseas inflow|       NULL|            23|              NULL|    2020-02-06|   2020-02-29|   2020-02-29|released|\n",
      "|1000000012|  male|20s|  Korea|   Seoul|         etc|     overseas inflow|       NULL|             0|              NULL|    2020-02-07|   2020-02-27|   2020-02-27|released|\n",
      "|1000000013|  male|80s|  Korea|   Seoul|   Jongno-gu|contact with patient| 1000000017|           117|              NULL|    2020-02-16|         NULL|         NULL|deceased|\n",
      "|1000000014|female|60s|  Korea|   Seoul|   Jongno-gu|contact with patient| 1000000013|            27|        2020-02-06|    2020-02-16|   2020-03-12|   2020-03-12|released|\n",
      "|1000000015|  male|70s|  Korea|   Seoul|Seongdong-gu|    Seongdong-gu APT|       NULL|             8|        2020-02-11|    2020-02-19|         NULL|         NULL|released|\n",
      "|1000000016|  male|70s|  Korea|   Seoul|   Jongno-gu|contact with patient| 1000000017|          NULL|              NULL|    2020-02-19|   2020-03-11|   2020-03-11|released|\n",
      "|1000000017|  male|70s|  Korea|   Seoul|   Jongno-gu|contact with patient| 1000000003|          NULL|              NULL|    2020-02-20|   2020-03-01|   2020-03-01|released|\n",
      "|1000000018|  male|20s|  Korea|   Seoul|         etc|                 etc|       NULL|          NULL|              NULL|    2020-02-20|         NULL|         NULL|released|\n",
      "|1000000019|female|70s|  Korea|   Seoul|   Jongno-gu|contact with patient| 1000000021|          NULL|              NULL|    2020-02-20|   2020-03-08|   2020-03-08|released|\n",
      "|1000000020|female|70s|  Korea|   Seoul|Seongdong-gu|    Seongdong-gu APT| 1000000015|          NULL|              NULL|    2020-02-20|         NULL|         NULL|released|\n",
      "+----------+------+---+-------+--------+------------+--------------------+-----------+--------------+------------------+--------------+-------------+-------------+--------+\n",
      "only showing top 20 rows\n",
      "\n"
     ]
    }
   ],
   "source": [
    "from pyspark.sql.functions import coalesce, col\n",
    "dec_col = df_p.withColumn('deceased_date', coalesce(col('deceased_date'), col('released_date')))\n",
    "\n",
    "dec_col.show()"
   ]
  },
  {
   "cell_type": "markdown",
   "id": "4ec324f5",
   "metadata": {},
   "source": [
    "### Add a column named no_days which is difference between the deceased_date and the confirmed_date then show the top 5 rows. Print the schema.\n",
    "- <b> Hint: You need to typecast these columns as date first <b>"
   ]
  },
  {
   "cell_type": "code",
   "execution_count": 13,
   "id": "d065e472",
   "metadata": {},
   "outputs": [
    {
     "name": "stdout",
     "output_type": "stream",
     "text": [
      "+----------+------+---+-------+--------+-----------+--------------------+-----------+--------------+------------------+--------------+-------------+-------------+--------+-------+\n",
      "|patient_id|   sex|age|country|province|       city|      infection_case|infected_by|contact_number|symptom_onset_date|confirmed_date|released_date|deceased_date|   state|no_days|\n",
      "+----------+------+---+-------+--------+-----------+--------------------+-----------+--------------+------------------+--------------+-------------+-------------+--------+-------+\n",
      "|1000000001|  male|50s|  Korea|   Seoul| Gangseo-gu|     overseas inflow|       NULL|            75|        2020-01-22|    2020-01-23|   2020-02-05|   2020-02-05|released|     13|\n",
      "|1000000002|  male|30s|  Korea|   Seoul|Jungnang-gu|     overseas inflow|       NULL|            31|              NULL|    2020-01-30|   2020-03-02|   2020-03-02|released|     32|\n",
      "|1000000003|  male|50s|  Korea|   Seoul|  Jongno-gu|contact with patient| 2002000001|            17|              NULL|    2020-01-30|   2020-02-19|   2020-02-19|released|     20|\n",
      "|1000000004|  male|20s|  Korea|   Seoul|    Mapo-gu|     overseas inflow|       NULL|             9|        2020-01-26|    2020-01-30|   2020-02-15|   2020-02-15|released|     16|\n",
      "|1000000005|female|20s|  Korea|   Seoul|Seongbuk-gu|contact with patient| 1000000002|             2|              NULL|    2020-01-31|   2020-02-24|   2020-02-24|released|     24|\n",
      "+----------+------+---+-------+--------+-----------+--------------------+-----------+--------------+------------------+--------------+-------------+-------------+--------+-------+\n",
      "only showing top 5 rows\n",
      "\n"
     ]
    }
   ],
   "source": [
    "from pyspark.sql.types import DateType\n",
    "\n",
    "df_p_n = dec_col.withColumn('confirmed_date', col('confirmed_date').cast(DateType()))\\\n",
    "                 .withColumn('deceased_date', col('deceased_date').cast(DateType()))\\\n",
    "                 .withColumn('no_days', datediff(col('deceased_date'), col('confirmed_date')))\n",
    "df_p_n.show(5)\n",
    "\n",
    "#withColumn('released_date', col('released_date').cast(DateType()))\\\n",
    "#df = df.withColumn('deceased_date', coalesce(col('deceased_date').cast(DateType()), col('released_date')))"
   ]
  },
  {
   "cell_type": "code",
   "execution_count": 14,
   "id": "915105ca-5f85-42b4-987a-b5e8f295fea1",
   "metadata": {},
   "outputs": [
    {
     "name": "stdout",
     "output_type": "stream",
     "text": [
      "root\n",
      " |-- patient_id: string (nullable = true)\n",
      " |-- sex: string (nullable = true)\n",
      " |-- age: string (nullable = true)\n",
      " |-- country: string (nullable = true)\n",
      " |-- province: string (nullable = true)\n",
      " |-- city: string (nullable = true)\n",
      " |-- infection_case: string (nullable = true)\n",
      " |-- infected_by: string (nullable = true)\n",
      " |-- contact_number: string (nullable = true)\n",
      " |-- symptom_onset_date: string (nullable = true)\n",
      " |-- confirmed_date: date (nullable = true)\n",
      " |-- released_date: string (nullable = true)\n",
      " |-- deceased_date: date (nullable = true)\n",
      " |-- state: string (nullable = true)\n",
      " |-- no_days: integer (nullable = true)\n",
      "\n"
     ]
    }
   ],
   "source": [
    "df_p_n.printSchema()"
   ]
  },
  {
   "cell_type": "markdown",
   "id": "967b2466",
   "metadata": {},
   "source": [
    "### Add a is_male column if male then it should yield true, else then False"
   ]
  },
  {
   "cell_type": "code",
   "execution_count": 15,
   "id": "8efe03b5",
   "metadata": {},
   "outputs": [
    {
     "name": "stdout",
     "output_type": "stream",
     "text": [
      "+----------+------+---+-------+--------+------------+--------------------+-----------+--------------+------------------+--------------+-------------+-------------+--------+-------+-------+\n",
      "|patient_id|   sex|age|country|province|        city|      infection_case|infected_by|contact_number|symptom_onset_date|confirmed_date|released_date|deceased_date|   state|no_days|is_male|\n",
      "+----------+------+---+-------+--------+------------+--------------------+-----------+--------------+------------------+--------------+-------------+-------------+--------+-------+-------+\n",
      "|1000000001|  male|50s|  Korea|   Seoul|  Gangseo-gu|     overseas inflow|       NULL|            75|        2020-01-22|    2020-01-23|   2020-02-05|   2020-02-05|released|     13|   true|\n",
      "|1000000002|  male|30s|  Korea|   Seoul| Jungnang-gu|     overseas inflow|       NULL|            31|              NULL|    2020-01-30|   2020-03-02|   2020-03-02|released|     32|   true|\n",
      "|1000000003|  male|50s|  Korea|   Seoul|   Jongno-gu|contact with patient| 2002000001|            17|              NULL|    2020-01-30|   2020-02-19|   2020-02-19|released|     20|   true|\n",
      "|1000000004|  male|20s|  Korea|   Seoul|     Mapo-gu|     overseas inflow|       NULL|             9|        2020-01-26|    2020-01-30|   2020-02-15|   2020-02-15|released|     16|   true|\n",
      "|1000000005|female|20s|  Korea|   Seoul| Seongbuk-gu|contact with patient| 1000000002|             2|              NULL|    2020-01-31|   2020-02-24|   2020-02-24|released|     24|  false|\n",
      "|1000000006|female|50s|  Korea|   Seoul|   Jongno-gu|contact with patient| 1000000003|            43|              NULL|    2020-01-31|   2020-02-19|   2020-02-19|released|     19|  false|\n",
      "|1000000007|  male|20s|  Korea|   Seoul|   Jongno-gu|contact with patient| 1000000003|             0|              NULL|    2020-01-31|   2020-02-10|   2020-02-10|released|     10|   true|\n",
      "|1000000008|  male|20s|  Korea|   Seoul|         etc|     overseas inflow|       NULL|             0|              NULL|    2020-02-02|   2020-02-24|   2020-02-24|released|     22|   true|\n",
      "|1000000009|  male|30s|  Korea|   Seoul|   Songpa-gu|     overseas inflow|       NULL|            68|              NULL|    2020-02-05|   2020-02-21|   2020-02-21|released|     16|   true|\n",
      "|1000000010|female|60s|  Korea|   Seoul| Seongbuk-gu|contact with patient| 1000000003|             6|              NULL|    2020-02-05|   2020-02-29|   2020-02-29|released|     24|  false|\n",
      "|1000000011|female|50s|  China|   Seoul|Seodaemun-gu|     overseas inflow|       NULL|            23|              NULL|    2020-02-06|   2020-02-29|   2020-02-29|released|     23|  false|\n",
      "|1000000012|  male|20s|  Korea|   Seoul|         etc|     overseas inflow|       NULL|             0|              NULL|    2020-02-07|   2020-02-27|   2020-02-27|released|     20|   true|\n",
      "|1000000013|  male|80s|  Korea|   Seoul|   Jongno-gu|contact with patient| 1000000017|           117|              NULL|    2020-02-16|         NULL|         NULL|deceased|   NULL|   true|\n",
      "|1000000014|female|60s|  Korea|   Seoul|   Jongno-gu|contact with patient| 1000000013|            27|        2020-02-06|    2020-02-16|   2020-03-12|   2020-03-12|released|     25|  false|\n",
      "|1000000015|  male|70s|  Korea|   Seoul|Seongdong-gu|    Seongdong-gu APT|       NULL|             8|        2020-02-11|    2020-02-19|         NULL|         NULL|released|   NULL|   true|\n",
      "|1000000016|  male|70s|  Korea|   Seoul|   Jongno-gu|contact with patient| 1000000017|          NULL|              NULL|    2020-02-19|   2020-03-11|   2020-03-11|released|     21|   true|\n",
      "|1000000017|  male|70s|  Korea|   Seoul|   Jongno-gu|contact with patient| 1000000003|          NULL|              NULL|    2020-02-20|   2020-03-01|   2020-03-01|released|     10|   true|\n",
      "|1000000018|  male|20s|  Korea|   Seoul|         etc|                 etc|       NULL|          NULL|              NULL|    2020-02-20|         NULL|         NULL|released|   NULL|   true|\n",
      "|1000000019|female|70s|  Korea|   Seoul|   Jongno-gu|contact with patient| 1000000021|          NULL|              NULL|    2020-02-20|   2020-03-08|   2020-03-08|released|     17|  false|\n",
      "|1000000020|female|70s|  Korea|   Seoul|Seongdong-gu|    Seongdong-gu APT| 1000000015|          NULL|              NULL|    2020-02-20|         NULL|         NULL|released|   NULL|  false|\n",
      "+----------+------+---+-------+--------+------------+--------------------+-----------+--------------+------------------+--------------+-------------+-------------+--------+-------+-------+\n",
      "only showing top 20 rows\n",
      "\n"
     ]
    }
   ],
   "source": [
    "df_n = df_p_n.withColumn('is_male', \n",
    "                         when(col('sex') == 'male', True)\n",
    "                         .when(col('sex') == 'female', False))\n",
    "#df_new = df_n.fillna({'is_male': False})\n",
    "\n",
    "df_n.show()"
   ]
  },
  {
   "cell_type": "markdown",
   "id": "8603d7c0",
   "metadata": {},
   "source": [
    "### Add a is_dead column if patient state is not released then it should yield true, else then False\n",
    "\n",
    "- Use <b>UDF</b> to perform this task. \n",
    "- However, UDF is not recommended there is no built in function can do the required operation.\n",
    "- UDF is slower than built in functions."
   ]
  },
  {
   "cell_type": "code",
   "execution_count": 20,
   "id": "27a693cc-1a9c-4745-8235-118985966517",
   "metadata": {},
   "outputs": [
    {
     "name": "stderr",
     "output_type": "stream",
     "text": [
      "[Stage 55:>                                                         (0 + 1) / 1]\r"
     ]
    },
    {
     "name": "stdout",
     "output_type": "stream",
     "text": [
      "+----------+------+---+-------+--------+------------+--------------------+-----------+--------------+------------------+--------------+-------------+-------------+--------+-------+-------+-------+\n",
      "|patient_id|   sex|age|country|province|        city|      infection_case|infected_by|contact_number|symptom_onset_date|confirmed_date|released_date|deceased_date|   state|no_days|is_male|is_dead|\n",
      "+----------+------+---+-------+--------+------------+--------------------+-----------+--------------+------------------+--------------+-------------+-------------+--------+-------+-------+-------+\n",
      "|1000000001|  male|50s|  Korea|   Seoul|  Gangseo-gu|     overseas inflow|       NULL|            75|        2020-01-22|    2020-01-23|   2020-02-05|   2020-02-05|released|     13|   true|  False|\n",
      "|1000000002|  male|30s|  Korea|   Seoul| Jungnang-gu|     overseas inflow|       NULL|            31|              NULL|    2020-01-30|   2020-03-02|   2020-03-02|released|     32|   true|  False|\n",
      "|1000000003|  male|50s|  Korea|   Seoul|   Jongno-gu|contact with patient| 2002000001|            17|              NULL|    2020-01-30|   2020-02-19|   2020-02-19|released|     20|   true|  False|\n",
      "|1000000004|  male|20s|  Korea|   Seoul|     Mapo-gu|     overseas inflow|       NULL|             9|        2020-01-26|    2020-01-30|   2020-02-15|   2020-02-15|released|     16|   true|  False|\n",
      "|1000000005|female|20s|  Korea|   Seoul| Seongbuk-gu|contact with patient| 1000000002|             2|              NULL|    2020-01-31|   2020-02-24|   2020-02-24|released|     24|  false|  False|\n",
      "|1000000006|female|50s|  Korea|   Seoul|   Jongno-gu|contact with patient| 1000000003|            43|              NULL|    2020-01-31|   2020-02-19|   2020-02-19|released|     19|  false|  False|\n",
      "|1000000007|  male|20s|  Korea|   Seoul|   Jongno-gu|contact with patient| 1000000003|             0|              NULL|    2020-01-31|   2020-02-10|   2020-02-10|released|     10|   true|  False|\n",
      "|1000000008|  male|20s|  Korea|   Seoul|         etc|     overseas inflow|       NULL|             0|              NULL|    2020-02-02|   2020-02-24|   2020-02-24|released|     22|   true|  False|\n",
      "|1000000009|  male|30s|  Korea|   Seoul|   Songpa-gu|     overseas inflow|       NULL|            68|              NULL|    2020-02-05|   2020-02-21|   2020-02-21|released|     16|   true|  False|\n",
      "|1000000010|female|60s|  Korea|   Seoul| Seongbuk-gu|contact with patient| 1000000003|             6|              NULL|    2020-02-05|   2020-02-29|   2020-02-29|released|     24|  false|  False|\n",
      "|1000000011|female|50s|  China|   Seoul|Seodaemun-gu|     overseas inflow|       NULL|            23|              NULL|    2020-02-06|   2020-02-29|   2020-02-29|released|     23|  false|  False|\n",
      "|1000000012|  male|20s|  Korea|   Seoul|         etc|     overseas inflow|       NULL|             0|              NULL|    2020-02-07|   2020-02-27|   2020-02-27|released|     20|   true|  False|\n",
      "|1000000013|  male|80s|  Korea|   Seoul|   Jongno-gu|contact with patient| 1000000017|           117|              NULL|    2020-02-16|         NULL|         NULL|deceased|   NULL|   true|   True|\n",
      "|1000000014|female|60s|  Korea|   Seoul|   Jongno-gu|contact with patient| 1000000013|            27|        2020-02-06|    2020-02-16|   2020-03-12|   2020-03-12|released|     25|  false|  False|\n",
      "|1000000015|  male|70s|  Korea|   Seoul|Seongdong-gu|    Seongdong-gu APT|       NULL|             8|        2020-02-11|    2020-02-19|         NULL|         NULL|released|   NULL|   true|  False|\n",
      "|1000000016|  male|70s|  Korea|   Seoul|   Jongno-gu|contact with patient| 1000000017|          NULL|              NULL|    2020-02-19|   2020-03-11|   2020-03-11|released|     21|   true|  False|\n",
      "|1000000017|  male|70s|  Korea|   Seoul|   Jongno-gu|contact with patient| 1000000003|          NULL|              NULL|    2020-02-20|   2020-03-01|   2020-03-01|released|     10|   true|  False|\n",
      "|1000000018|  male|20s|  Korea|   Seoul|         etc|                 etc|       NULL|          NULL|              NULL|    2020-02-20|         NULL|         NULL|released|   NULL|   true|  False|\n",
      "|1000000019|female|70s|  Korea|   Seoul|   Jongno-gu|contact with patient| 1000000021|          NULL|              NULL|    2020-02-20|   2020-03-08|   2020-03-08|released|     17|  false|  False|\n",
      "|1000000020|female|70s|  Korea|   Seoul|Seongdong-gu|    Seongdong-gu APT| 1000000015|          NULL|              NULL|    2020-02-20|         NULL|         NULL|released|   NULL|  false|  False|\n",
      "+----------+------+---+-------+--------+------------+--------------------+-----------+--------------+------------------+--------------+-------------+-------------+--------+-------+-------+-------+\n",
      "only showing top 20 rows\n",
      "\n"
     ]
    },
    {
     "name": "stderr",
     "output_type": "stream",
     "text": [
      "                                                                                \r"
     ]
    }
   ],
   "source": [
    "from pyspark.sql.types import StringType\n",
    "\n",
    "def udf_dead(s):\n",
    "    if s != 'released':\n",
    "        return 'True'  \n",
    "    else: \n",
    "        return 'False'\n",
    "\n",
    "s_udf = udf(udf_dead, StringType()) # this solve the error of matching the function return value\n",
    "df_pat = df_new.withColumn('is_dead', s_udf(col('state')))\n",
    "df_pat.show()\n",
    "#df_pat = df_new.withColumn('is_dead', is_dead(col('state')))"
   ]
  },
  {
   "cell_type": "code",
   "execution_count": 19,
   "id": "e6e3e465-3239-41ec-8421-ddc36114862b",
   "metadata": {},
   "outputs": [
    {
     "name": "stdout",
     "output_type": "stream",
     "text": [
      "+----------+------+---+-------+--------+------------+--------------------+-----------+--------------+------------------+--------------+-------------+-------------+--------+-------+-------+-------+\n",
      "|patient_id|   sex|age|country|province|        city|      infection_case|infected_by|contact_number|symptom_onset_date|confirmed_date|released_date|deceased_date|   state|no_days|is_male|is_dead|\n",
      "+----------+------+---+-------+--------+------------+--------------------+-----------+--------------+------------------+--------------+-------------+-------------+--------+-------+-------+-------+\n",
      "|1000000001|  male|50s|  Korea|   Seoul|  Gangseo-gu|     overseas inflow|       NULL|            75|        2020-01-22|    2020-01-23|   2020-02-05|   2020-02-05|released|     13|   true|  false|\n",
      "|1000000002|  male|30s|  Korea|   Seoul| Jungnang-gu|     overseas inflow|       NULL|            31|              NULL|    2020-01-30|   2020-03-02|   2020-03-02|released|     32|   true|  false|\n",
      "|1000000003|  male|50s|  Korea|   Seoul|   Jongno-gu|contact with patient| 2002000001|            17|              NULL|    2020-01-30|   2020-02-19|   2020-02-19|released|     20|   true|  false|\n",
      "|1000000004|  male|20s|  Korea|   Seoul|     Mapo-gu|     overseas inflow|       NULL|             9|        2020-01-26|    2020-01-30|   2020-02-15|   2020-02-15|released|     16|   true|  false|\n",
      "|1000000005|female|20s|  Korea|   Seoul| Seongbuk-gu|contact with patient| 1000000002|             2|              NULL|    2020-01-31|   2020-02-24|   2020-02-24|released|     24|  false|  false|\n",
      "|1000000006|female|50s|  Korea|   Seoul|   Jongno-gu|contact with patient| 1000000003|            43|              NULL|    2020-01-31|   2020-02-19|   2020-02-19|released|     19|  false|  false|\n",
      "|1000000007|  male|20s|  Korea|   Seoul|   Jongno-gu|contact with patient| 1000000003|             0|              NULL|    2020-01-31|   2020-02-10|   2020-02-10|released|     10|   true|  false|\n",
      "|1000000008|  male|20s|  Korea|   Seoul|         etc|     overseas inflow|       NULL|             0|              NULL|    2020-02-02|   2020-02-24|   2020-02-24|released|     22|   true|  false|\n",
      "|1000000009|  male|30s|  Korea|   Seoul|   Songpa-gu|     overseas inflow|       NULL|            68|              NULL|    2020-02-05|   2020-02-21|   2020-02-21|released|     16|   true|  false|\n",
      "|1000000010|female|60s|  Korea|   Seoul| Seongbuk-gu|contact with patient| 1000000003|             6|              NULL|    2020-02-05|   2020-02-29|   2020-02-29|released|     24|  false|  false|\n",
      "|1000000011|female|50s|  China|   Seoul|Seodaemun-gu|     overseas inflow|       NULL|            23|              NULL|    2020-02-06|   2020-02-29|   2020-02-29|released|     23|  false|  false|\n",
      "|1000000012|  male|20s|  Korea|   Seoul|         etc|     overseas inflow|       NULL|             0|              NULL|    2020-02-07|   2020-02-27|   2020-02-27|released|     20|   true|  false|\n",
      "|1000000013|  male|80s|  Korea|   Seoul|   Jongno-gu|contact with patient| 1000000017|           117|              NULL|    2020-02-16|         NULL|         NULL|deceased|   NULL|   true|   true|\n",
      "|1000000014|female|60s|  Korea|   Seoul|   Jongno-gu|contact with patient| 1000000013|            27|        2020-02-06|    2020-02-16|   2020-03-12|   2020-03-12|released|     25|  false|  false|\n",
      "|1000000015|  male|70s|  Korea|   Seoul|Seongdong-gu|    Seongdong-gu APT|       NULL|             8|        2020-02-11|    2020-02-19|         NULL|         NULL|released|   NULL|   true|  false|\n",
      "|1000000016|  male|70s|  Korea|   Seoul|   Jongno-gu|contact with patient| 1000000017|          NULL|              NULL|    2020-02-19|   2020-03-11|   2020-03-11|released|     21|   true|  false|\n",
      "|1000000017|  male|70s|  Korea|   Seoul|   Jongno-gu|contact with patient| 1000000003|          NULL|              NULL|    2020-02-20|   2020-03-01|   2020-03-01|released|     10|   true|  false|\n",
      "|1000000018|  male|20s|  Korea|   Seoul|         etc|                 etc|       NULL|          NULL|              NULL|    2020-02-20|         NULL|         NULL|released|   NULL|   true|  false|\n",
      "|1000000019|female|70s|  Korea|   Seoul|   Jongno-gu|contact with patient| 1000000021|          NULL|              NULL|    2020-02-20|   2020-03-08|   2020-03-08|released|     17|  false|  false|\n",
      "|1000000020|female|70s|  Korea|   Seoul|Seongdong-gu|    Seongdong-gu APT| 1000000015|          NULL|              NULL|    2020-02-20|         NULL|         NULL|released|   NULL|  false|  false|\n",
      "+----------+------+---+-------+--------+------------+--------------------+-----------+--------------+------------------+--------------+-------------+-------------+--------+-------+-------+-------+\n",
      "only showing top 20 rows\n",
      "\n"
     ]
    }
   ],
   "source": [
    "df1 = df_n.withColumn('is_dead',when(col('state') != 'released', True))\n",
    "df2 = df1.fillna({'is_dead': False})\n",
    "df2.show()"
   ]
  },
  {
   "cell_type": "markdown",
   "id": "e15264a9",
   "metadata": {},
   "source": [
    "### Change the ages to bins from 10s, 0s, 10s, 20s,.etc to 0,10, 20"
   ]
  },
  {
   "cell_type": "code",
   "execution_count": 20,
   "id": "7a2b57ed",
   "metadata": {},
   "outputs": [
    {
     "name": "stdout",
     "output_type": "stream",
     "text": [
      "+----+-----+\n",
      "| age|count|\n",
      "+----+-----+\n",
      "|  0s|   66|\n",
      "| 10s|  178|\n",
      "|NULL| 1380|\n",
      "| 40s|  518|\n",
      "| 80s|  170|\n",
      "| 70s|  232|\n",
      "| 90s|   49|\n",
      "| 20s|  899|\n",
      "| 50s|  667|\n",
      "| 60s|  482|\n",
      "|100s|    1|\n",
      "| 30s|  523|\n",
      "+----+-----+\n",
      "\n"
     ]
    }
   ],
   "source": [
    "age = df2.groupBy(\"age\").count()\n",
    "age.show()"
   ]
  },
  {
   "cell_type": "code",
   "execution_count": 66,
   "id": "549423de-1b46-4d4f-80dd-ca823de7bcbf",
   "metadata": {},
   "outputs": [
    {
     "name": "stdout",
     "output_type": "stream",
     "text": [
      "+----------+------+---+-------+--------+------------+--------------------+-----------+--------------+------------------+--------------+-------------+-------------+--------+-------+-------+-------+\n",
      "|patient_id|   sex|age|country|province|        city|      infection_case|infected_by|contact_number|symptom_onset_date|confirmed_date|released_date|deceased_date|   state|no_days|is_male|is_dead|\n",
      "+----------+------+---+-------+--------+------------+--------------------+-----------+--------------+------------------+--------------+-------------+-------------+--------+-------+-------+-------+\n",
      "|1000000001|  male| 50|  Korea|   Seoul|  Gangseo-gu|     overseas inflow|       NULL|            75|        2020-01-22|    2020-01-23|   2020-02-05|   2020-02-05|released|     13|   true|  false|\n",
      "|1000000002|  male| 30|  Korea|   Seoul| Jungnang-gu|     overseas inflow|       NULL|            31|              NULL|    2020-01-30|   2020-03-02|   2020-03-02|released|     32|   true|  false|\n",
      "|1000000003|  male| 50|  Korea|   Seoul|   Jongno-gu|contact with patient| 2002000001|            17|              NULL|    2020-01-30|   2020-02-19|   2020-02-19|released|     20|   true|  false|\n",
      "|1000000004|  male| 20|  Korea|   Seoul|     Mapo-gu|     overseas inflow|       NULL|             9|        2020-01-26|    2020-01-30|   2020-02-15|   2020-02-15|released|     16|   true|  false|\n",
      "|1000000005|female| 20|  Korea|   Seoul| Seongbuk-gu|contact with patient| 1000000002|             2|              NULL|    2020-01-31|   2020-02-24|   2020-02-24|released|     24|  false|  false|\n",
      "|1000000006|female| 50|  Korea|   Seoul|   Jongno-gu|contact with patient| 1000000003|            43|              NULL|    2020-01-31|   2020-02-19|   2020-02-19|released|     19|  false|  false|\n",
      "|1000000007|  male| 20|  Korea|   Seoul|   Jongno-gu|contact with patient| 1000000003|             0|              NULL|    2020-01-31|   2020-02-10|   2020-02-10|released|     10|   true|  false|\n",
      "|1000000008|  male| 20|  Korea|   Seoul|         etc|     overseas inflow|       NULL|             0|              NULL|    2020-02-02|   2020-02-24|   2020-02-24|released|     22|   true|  false|\n",
      "|1000000009|  male| 30|  Korea|   Seoul|   Songpa-gu|     overseas inflow|       NULL|            68|              NULL|    2020-02-05|   2020-02-21|   2020-02-21|released|     16|   true|  false|\n",
      "|1000000010|female| 60|  Korea|   Seoul| Seongbuk-gu|contact with patient| 1000000003|             6|              NULL|    2020-02-05|   2020-02-29|   2020-02-29|released|     24|  false|  false|\n",
      "|1000000011|female| 50|  China|   Seoul|Seodaemun-gu|     overseas inflow|       NULL|            23|              NULL|    2020-02-06|   2020-02-29|   2020-02-29|released|     23|  false|  false|\n",
      "|1000000012|  male| 20|  Korea|   Seoul|         etc|     overseas inflow|       NULL|             0|              NULL|    2020-02-07|   2020-02-27|   2020-02-27|released|     20|   true|  false|\n",
      "|1000000013|  male| 80|  Korea|   Seoul|   Jongno-gu|contact with patient| 1000000017|           117|              NULL|    2020-02-16|         NULL|         NULL|deceased|   NULL|   true|   true|\n",
      "|1000000014|female| 60|  Korea|   Seoul|   Jongno-gu|contact with patient| 1000000013|            27|        2020-02-06|    2020-02-16|   2020-03-12|   2020-03-12|released|     25|  false|  false|\n",
      "|1000000015|  male| 70|  Korea|   Seoul|Seongdong-gu|    Seongdong-gu APT|       NULL|             8|        2020-02-11|    2020-02-19|         NULL|         NULL|released|   NULL|   true|  false|\n",
      "|1000000016|  male| 70|  Korea|   Seoul|   Jongno-gu|contact with patient| 1000000017|          NULL|              NULL|    2020-02-19|   2020-03-11|   2020-03-11|released|     21|   true|  false|\n",
      "|1000000017|  male| 70|  Korea|   Seoul|   Jongno-gu|contact with patient| 1000000003|          NULL|              NULL|    2020-02-20|   2020-03-01|   2020-03-01|released|     10|   true|  false|\n",
      "|1000000018|  male| 20|  Korea|   Seoul|         etc|                 etc|       NULL|          NULL|              NULL|    2020-02-20|         NULL|         NULL|released|   NULL|   true|  false|\n",
      "|1000000019|female| 70|  Korea|   Seoul|   Jongno-gu|contact with patient| 1000000021|          NULL|              NULL|    2020-02-20|   2020-03-08|   2020-03-08|released|     17|  false|  false|\n",
      "|1000000020|female| 70|  Korea|   Seoul|Seongdong-gu|    Seongdong-gu APT| 1000000015|          NULL|              NULL|    2020-02-20|         NULL|         NULL|released|   NULL|  false|  false|\n",
      "+----------+------+---+-------+--------+------------+--------------------+-----------+--------------+------------------+--------------+-------------+-------------+--------+-------+-------+-------+\n",
      "only showing top 20 rows\n",
      "\n"
     ]
    }
   ],
   "source": [
    "'''\n",
    "df3 = df2.withColumn('age',\n",
    "     when(col('age') == '0s', 0)\n",
    "    .when(col('age') == '10s', 10)\n",
    "    .when(col('age') == '20s', 20)\n",
    "    .when(col('age') == '30s', 30)\n",
    "    .when(col('age') == '40s', 40)\n",
    "    .when(col('age') == '50s', 50)\n",
    "    .when(col('age') == '60s', 60)\n",
    "    .when(col('age') == '70s', 70)\n",
    "    .when(col('age') == '80s', 80)\n",
    "    .when(col('age') == '90s', 90)\n",
    "    .when(col('age') == '100s', 100)\n",
    "    .otherwise(col('age'))  \n",
    ")\n",
    "df3.show()\n",
    "'''\n",
    "df3 = df2.withColumn('age', translate(col('age'), \"s\", \"\"))\n",
    "df3.show()"
   ]
  },
  {
   "cell_type": "code",
   "execution_count": 22,
   "id": "aaa6c78d-fffa-486a-b8be-8fc181bcdb8f",
   "metadata": {},
   "outputs": [
    {
     "name": "stdout",
     "output_type": "stream",
     "text": [
      "+----------+------+---+-------+--------+------------+--------------------+-----------+--------------+------------------+--------------+-------------+-------------+--------+-------+-------+-------+\n",
      "|patient_id|   sex|age|country|province|        city|      infection_case|infected_by|contact_number|symptom_onset_date|confirmed_date|released_date|deceased_date|   state|no_days|is_male|is_dead|\n",
      "+----------+------+---+-------+--------+------------+--------------------+-----------+--------------+------------------+--------------+-------------+-------------+--------+-------+-------+-------+\n",
      "|1000000001|  male| 50|  Korea|   Seoul|  Gangseo-gu|     overseas inflow|       NULL|            75|        2020-01-22|    2020-01-23|   2020-02-05|   2020-02-05|released|     13|   true|  False|\n",
      "|1000000002|  male| 30|  Korea|   Seoul| Jungnang-gu|     overseas inflow|       NULL|            31|              NULL|    2020-01-30|   2020-03-02|   2020-03-02|released|     32|   true|  False|\n",
      "|1000000003|  male| 50|  Korea|   Seoul|   Jongno-gu|contact with patient| 2002000001|            17|              NULL|    2020-01-30|   2020-02-19|   2020-02-19|released|     20|   true|  False|\n",
      "|1000000004|  male| 20|  Korea|   Seoul|     Mapo-gu|     overseas inflow|       NULL|             9|        2020-01-26|    2020-01-30|   2020-02-15|   2020-02-15|released|     16|   true|  False|\n",
      "|1000000005|female| 20|  Korea|   Seoul| Seongbuk-gu|contact with patient| 1000000002|             2|              NULL|    2020-01-31|   2020-02-24|   2020-02-24|released|     24|  false|  False|\n",
      "|1000000006|female| 50|  Korea|   Seoul|   Jongno-gu|contact with patient| 1000000003|            43|              NULL|    2020-01-31|   2020-02-19|   2020-02-19|released|     19|  false|  False|\n",
      "|1000000007|  male| 20|  Korea|   Seoul|   Jongno-gu|contact with patient| 1000000003|             0|              NULL|    2020-01-31|   2020-02-10|   2020-02-10|released|     10|   true|  False|\n",
      "|1000000008|  male| 20|  Korea|   Seoul|         etc|     overseas inflow|       NULL|             0|              NULL|    2020-02-02|   2020-02-24|   2020-02-24|released|     22|   true|  False|\n",
      "|1000000009|  male| 30|  Korea|   Seoul|   Songpa-gu|     overseas inflow|       NULL|            68|              NULL|    2020-02-05|   2020-02-21|   2020-02-21|released|     16|   true|  False|\n",
      "|1000000010|female| 60|  Korea|   Seoul| Seongbuk-gu|contact with patient| 1000000003|             6|              NULL|    2020-02-05|   2020-02-29|   2020-02-29|released|     24|  false|  False|\n",
      "|1000000011|female| 50|  China|   Seoul|Seodaemun-gu|     overseas inflow|       NULL|            23|              NULL|    2020-02-06|   2020-02-29|   2020-02-29|released|     23|  false|  False|\n",
      "|1000000012|  male| 20|  Korea|   Seoul|         etc|     overseas inflow|       NULL|             0|              NULL|    2020-02-07|   2020-02-27|   2020-02-27|released|     20|   true|  False|\n",
      "|1000000013|  male| 80|  Korea|   Seoul|   Jongno-gu|contact with patient| 1000000017|           117|              NULL|    2020-02-16|         NULL|         NULL|deceased|   NULL|   true|   True|\n",
      "|1000000014|female| 60|  Korea|   Seoul|   Jongno-gu|contact with patient| 1000000013|            27|        2020-02-06|    2020-02-16|   2020-03-12|   2020-03-12|released|     25|  false|  False|\n",
      "|1000000015|  male| 70|  Korea|   Seoul|Seongdong-gu|    Seongdong-gu APT|       NULL|             8|        2020-02-11|    2020-02-19|         NULL|         NULL|released|   NULL|   true|  False|\n",
      "|1000000016|  male| 70|  Korea|   Seoul|   Jongno-gu|contact with patient| 1000000017|          NULL|              NULL|    2020-02-19|   2020-03-11|   2020-03-11|released|     21|   true|  False|\n",
      "|1000000017|  male| 70|  Korea|   Seoul|   Jongno-gu|contact with patient| 1000000003|          NULL|              NULL|    2020-02-20|   2020-03-01|   2020-03-01|released|     10|   true|  False|\n",
      "|1000000018|  male| 20|  Korea|   Seoul|         etc|                 etc|       NULL|          NULL|              NULL|    2020-02-20|         NULL|         NULL|released|   NULL|   true|  False|\n",
      "|1000000019|female| 70|  Korea|   Seoul|   Jongno-gu|contact with patient| 1000000021|          NULL|              NULL|    2020-02-20|   2020-03-08|   2020-03-08|released|     17|  false|  False|\n",
      "|1000000020|female| 70|  Korea|   Seoul|Seongdong-gu|    Seongdong-gu APT| 1000000015|          NULL|              NULL|    2020-02-20|         NULL|         NULL|released|   NULL|  false|  False|\n",
      "+----------+------+---+-------+--------+------------+--------------------+-----------+--------------+------------------+--------------+-------------+-------------+--------+-------+-------+-------+\n",
      "only showing top 20 rows\n",
      "\n"
     ]
    }
   ],
   "source": [
    "def proc_age(age):\n",
    "    if age.endswith('s'):\n",
    "        return age[:-1]  \n",
    "    return age \n",
    "\n",
    "age_udf = udf(proc_age, StringType())\n",
    "df_patnew = df_pat.withColumn('age', age_udf(col('age')))\n",
    "\n",
    "df_patnew.show()"
   ]
  },
  {
   "cell_type": "markdown",
   "id": "43cdf846",
   "metadata": {},
   "source": [
    "### Change age, and no_days  to be typecasted as Double"
   ]
  },
  {
   "cell_type": "code",
   "execution_count": 36,
   "id": "dfea7fcb",
   "metadata": {},
   "outputs": [
    {
     "name": "stdout",
     "output_type": "stream",
     "text": [
      "root\n",
      " |-- patient_id: string (nullable = true)\n",
      " |-- sex: string (nullable = true)\n",
      " |-- age: double (nullable = true)\n",
      " |-- country: string (nullable = true)\n",
      " |-- province: string (nullable = true)\n",
      " |-- city: string (nullable = true)\n",
      " |-- infection_case: string (nullable = true)\n",
      " |-- infected_by: string (nullable = true)\n",
      " |-- contact_number: string (nullable = true)\n",
      " |-- symptom_onset_date: string (nullable = true)\n",
      " |-- confirmed_date: date (nullable = true)\n",
      " |-- released_date: string (nullable = true)\n",
      " |-- deceased_date: date (nullable = true)\n",
      " |-- state: string (nullable = true)\n",
      " |-- no_days: double (nullable = true)\n",
      " |-- is_male: boolean (nullable = false)\n",
      " |-- is_dead: boolean (nullable = false)\n",
      "\n"
     ]
    }
   ],
   "source": [
    "from pyspark.sql.types import DoubleType\n",
    "df4 = df3.withColumn('age', col('age').cast(DoubleType()))\\\n",
    "           .withColumn('no_days', col('no_days').cast(DoubleType()))\n",
    "df4.printSchema()"
   ]
  },
  {
   "cell_type": "markdown",
   "id": "d31e3a87",
   "metadata": {},
   "source": [
    "### Drop the columns\n",
    "[\"patient_id\",\"sex\",\"infected_by\",\"contact_number\",\"released_date\",\"state\",\n",
    "\"symptom_onset_date\",\"confirmed_date\",\"deceased_date\",\"country\",\"no_days\",\n",
    "\"city\",\"infection_case\"]"
   ]
  },
  {
   "cell_type": "code",
   "execution_count": 37,
   "id": "3ae0c428",
   "metadata": {},
   "outputs": [],
   "source": [
    "df5 = df4.drop('patient_id')\\\n",
    "       .drop('sex')\\\n",
    "       .drop('infected_by')\\\n",
    "       .drop('contact_number')\\\n",
    "       .drop('released_date')\\\n",
    "       .drop('state')\\\n",
    "       .drop('symptom_onset_date')\\\n",
    "       .drop('confirmed_date')\\\n",
    "       .drop('deceased_date')\\\n",
    "       .drop('country')\\\n",
    "       .drop('no_days')\\\n",
    "       .drop('city')\\\n",
    "       .drop('infection_case')"
   ]
  },
  {
   "cell_type": "code",
   "execution_count": 38,
   "id": "4c905587-0fae-4032-8e86-a86e990eede2",
   "metadata": {},
   "outputs": [
    {
     "name": "stdout",
     "output_type": "stream",
     "text": [
      "root\n",
      " |-- age: double (nullable = true)\n",
      " |-- province: string (nullable = true)\n",
      " |-- is_male: boolean (nullable = false)\n",
      " |-- is_dead: boolean (nullable = false)\n",
      "\n"
     ]
    }
   ],
   "source": [
    "df5.printSchema()"
   ]
  },
  {
   "cell_type": "code",
   "execution_count": 39,
   "id": "440f2e69-765d-4f57-8e39-5691540c78e5",
   "metadata": {},
   "outputs": [
    {
     "name": "stdout",
     "output_type": "stream",
     "text": [
      "+----+--------+-------+-------+\n",
      "| age|province|is_male|is_dead|\n",
      "+----+--------+-------+-------+\n",
      "|50.0|   Seoul|   true|  false|\n",
      "|30.0|   Seoul|   true|  false|\n",
      "|50.0|   Seoul|   true|  false|\n",
      "|20.0|   Seoul|   true|  false|\n",
      "+----+--------+-------+-------+\n",
      "only showing top 4 rows\n",
      "\n"
     ]
    }
   ],
   "source": [
    "df5.show(4)"
   ]
  },
  {
   "cell_type": "markdown",
   "id": "32df47a6",
   "metadata": {},
   "source": [
    "### Recount the number of nulls now"
   ]
  },
  {
   "cell_type": "code",
   "execution_count": 43,
   "id": "ddfa9a3a-88c2-4943-94c3-206ccb13e129",
   "metadata": {},
   "outputs": [
    {
     "name": "stdout",
     "output_type": "stream",
     "text": [
      "+----+--------+-------+-------+\n",
      "| age|province|is_male|is_dead|\n",
      "+----+--------+-------+-------+\n",
      "|50.0|   Seoul|   true|  false|\n",
      "|30.0|   Seoul|   true|  false|\n",
      "|50.0|   Seoul|   true|  false|\n",
      "|20.0|   Seoul|   true|  false|\n",
      "|20.0|   Seoul|  false|  false|\n",
      "|50.0|   Seoul|  false|  false|\n",
      "|20.0|   Seoul|   true|  false|\n",
      "|20.0|   Seoul|   true|  false|\n",
      "|30.0|   Seoul|   true|  false|\n",
      "|60.0|   Seoul|  false|  false|\n",
      "|50.0|   Seoul|  false|  false|\n",
      "|20.0|   Seoul|   true|  false|\n",
      "|80.0|   Seoul|   true|   true|\n",
      "|60.0|   Seoul|  false|  false|\n",
      "|70.0|   Seoul|   true|  false|\n",
      "|70.0|   Seoul|   true|  false|\n",
      "|70.0|   Seoul|   true|  false|\n",
      "|20.0|   Seoul|   true|  false|\n",
      "|70.0|   Seoul|  false|  false|\n",
      "|70.0|   Seoul|  false|  false|\n",
      "+----+--------+-------+-------+\n",
      "only showing top 20 rows\n",
      "\n"
     ]
    }
   ],
   "source": [
    "df5.show()"
   ]
  },
  {
   "cell_type": "code",
   "execution_count": 44,
   "id": "2be9dade-58b2-43bd-96ac-40a8bc46cc71",
   "metadata": {},
   "outputs": [
    {
     "data": {
      "text/plain": [
       "['age', 'province', 'is_male', 'is_dead']"
      ]
     },
     "execution_count": 44,
     "metadata": {},
     "output_type": "execute_result"
    }
   ],
   "source": [
    "df5.columns"
   ]
  },
  {
   "cell_type": "code",
   "execution_count": null,
   "id": "541c47ea-acf8-4224-afe9-2ec90410899e",
   "metadata": {},
   "outputs": [],
   "source": []
  },
  {
   "cell_type": "code",
   "execution_count": 45,
   "id": "6d66eaa7",
   "metadata": {},
   "outputs": [
    {
     "name": "stdout",
     "output_type": "stream",
     "text": [
      "age 1380\n",
      "province 0\n",
      "is_male 0\n",
      "is_dead 0\n"
     ]
    }
   ],
   "source": [
    "dict = {}\n",
    "for x in df5.columns:\n",
    "    nulls = df5.filter(col(x).isNull()).count()\n",
    "    dict [x] = nulls\n",
    "\n",
    "for c, n in dict.items():\n",
    "    print(c, n)\n"
   ]
  },
  {
   "cell_type": "code",
   "execution_count": null,
   "id": "655b53bd-b8bd-4008-8cf7-e2281c1248f2",
   "metadata": {},
   "outputs": [],
   "source": []
  },
  {
   "cell_type": "markdown",
   "id": "cc71f158",
   "metadata": {},
   "source": [
    "## Now do the same but using SQL select statement"
   ]
  },
  {
   "cell_type": "markdown",
   "id": "1d540282",
   "metadata": {},
   "source": [
    "### From the original Patient DataFrame, Create a temporary view (table)."
   ]
  },
  {
   "cell_type": "code",
   "execution_count": 46,
   "id": "cf56099f",
   "metadata": {},
   "outputs": [],
   "source": [
    "df_p.createOrReplaceTempView(\"patient_view\")"
   ]
  },
  {
   "cell_type": "markdown",
   "id": "cb004277",
   "metadata": {},
   "source": [
    "### Use SELECT statement to select all columns from the dataframe and show the output."
   ]
  },
  {
   "cell_type": "code",
   "execution_count": 47,
   "id": "12ae8226",
   "metadata": {},
   "outputs": [
    {
     "name": "stdout",
     "output_type": "stream",
     "text": [
      "+----------+------+---+-------+--------+------------+--------------------+-----------+--------------+------------------+--------------+-------------+-------------+--------+\n",
      "|patient_id|   sex|age|country|province|        city|      infection_case|infected_by|contact_number|symptom_onset_date|confirmed_date|released_date|deceased_date|   state|\n",
      "+----------+------+---+-------+--------+------------+--------------------+-----------+--------------+------------------+--------------+-------------+-------------+--------+\n",
      "|1000000001|  male|50s|  Korea|   Seoul|  Gangseo-gu|     overseas inflow|       NULL|            75|        2020-01-22|    2020-01-23|   2020-02-05|         NULL|released|\n",
      "|1000000002|  male|30s|  Korea|   Seoul| Jungnang-gu|     overseas inflow|       NULL|            31|              NULL|    2020-01-30|   2020-03-02|         NULL|released|\n",
      "|1000000003|  male|50s|  Korea|   Seoul|   Jongno-gu|contact with patient| 2002000001|            17|              NULL|    2020-01-30|   2020-02-19|         NULL|released|\n",
      "|1000000004|  male|20s|  Korea|   Seoul|     Mapo-gu|     overseas inflow|       NULL|             9|        2020-01-26|    2020-01-30|   2020-02-15|         NULL|released|\n",
      "|1000000005|female|20s|  Korea|   Seoul| Seongbuk-gu|contact with patient| 1000000002|             2|              NULL|    2020-01-31|   2020-02-24|         NULL|released|\n",
      "|1000000006|female|50s|  Korea|   Seoul|   Jongno-gu|contact with patient| 1000000003|            43|              NULL|    2020-01-31|   2020-02-19|         NULL|released|\n",
      "|1000000007|  male|20s|  Korea|   Seoul|   Jongno-gu|contact with patient| 1000000003|             0|              NULL|    2020-01-31|   2020-02-10|         NULL|released|\n",
      "|1000000008|  male|20s|  Korea|   Seoul|         etc|     overseas inflow|       NULL|             0|              NULL|    2020-02-02|   2020-02-24|         NULL|released|\n",
      "|1000000009|  male|30s|  Korea|   Seoul|   Songpa-gu|     overseas inflow|       NULL|            68|              NULL|    2020-02-05|   2020-02-21|         NULL|released|\n",
      "|1000000010|female|60s|  Korea|   Seoul| Seongbuk-gu|contact with patient| 1000000003|             6|              NULL|    2020-02-05|   2020-02-29|         NULL|released|\n",
      "|1000000011|female|50s|  China|   Seoul|Seodaemun-gu|     overseas inflow|       NULL|            23|              NULL|    2020-02-06|   2020-02-29|         NULL|released|\n",
      "|1000000012|  male|20s|  Korea|   Seoul|         etc|     overseas inflow|       NULL|             0|              NULL|    2020-02-07|   2020-02-27|         NULL|released|\n",
      "|1000000013|  male|80s|  Korea|   Seoul|   Jongno-gu|contact with patient| 1000000017|           117|              NULL|    2020-02-16|         NULL|         NULL|deceased|\n",
      "|1000000014|female|60s|  Korea|   Seoul|   Jongno-gu|contact with patient| 1000000013|            27|        2020-02-06|    2020-02-16|   2020-03-12|         NULL|released|\n",
      "|1000000015|  male|70s|  Korea|   Seoul|Seongdong-gu|    Seongdong-gu APT|       NULL|             8|        2020-02-11|    2020-02-19|         NULL|         NULL|released|\n",
      "|1000000016|  male|70s|  Korea|   Seoul|   Jongno-gu|contact with patient| 1000000017|          NULL|              NULL|    2020-02-19|   2020-03-11|         NULL|released|\n",
      "|1000000017|  male|70s|  Korea|   Seoul|   Jongno-gu|contact with patient| 1000000003|          NULL|              NULL|    2020-02-20|   2020-03-01|         NULL|released|\n",
      "|1000000018|  male|20s|  Korea|   Seoul|         etc|                 etc|       NULL|          NULL|              NULL|    2020-02-20|         NULL|         NULL|released|\n",
      "|1000000019|female|70s|  Korea|   Seoul|   Jongno-gu|contact with patient| 1000000021|          NULL|              NULL|    2020-02-20|   2020-03-08|         NULL|released|\n",
      "|1000000020|female|70s|  Korea|   Seoul|Seongdong-gu|    Seongdong-gu APT| 1000000015|          NULL|              NULL|    2020-02-20|         NULL|         NULL|released|\n",
      "+----------+------+---+-------+--------+------------+--------------------+-----------+--------------+------------------+--------------+-------------+-------------+--------+\n",
      "only showing top 20 rows\n",
      "\n"
     ]
    }
   ],
   "source": [
    "all_cols = spark.sql(\"\"\" select * from patient_view \"\"\")\n",
    "all_cols.show()"
   ]
  },
  {
   "cell_type": "markdown",
   "id": "e0da4318",
   "metadata": {},
   "source": [
    "### *Using SQL commands*, limit the output to only 5 rows "
   ]
  },
  {
   "cell_type": "code",
   "execution_count": 48,
   "id": "97911bdd",
   "metadata": {},
   "outputs": [
    {
     "name": "stdout",
     "output_type": "stream",
     "text": [
      "+----------+------+---+-------+--------+-----------+--------------------+-----------+--------------+------------------+--------------+-------------+-------------+--------+\n",
      "|patient_id|   sex|age|country|province|       city|      infection_case|infected_by|contact_number|symptom_onset_date|confirmed_date|released_date|deceased_date|   state|\n",
      "+----------+------+---+-------+--------+-----------+--------------------+-----------+--------------+------------------+--------------+-------------+-------------+--------+\n",
      "|1000000001|  male|50s|  Korea|   Seoul| Gangseo-gu|     overseas inflow|       NULL|            75|        2020-01-22|    2020-01-23|   2020-02-05|         NULL|released|\n",
      "|1000000002|  male|30s|  Korea|   Seoul|Jungnang-gu|     overseas inflow|       NULL|            31|              NULL|    2020-01-30|   2020-03-02|         NULL|released|\n",
      "|1000000003|  male|50s|  Korea|   Seoul|  Jongno-gu|contact with patient| 2002000001|            17|              NULL|    2020-01-30|   2020-02-19|         NULL|released|\n",
      "|1000000004|  male|20s|  Korea|   Seoul|    Mapo-gu|     overseas inflow|       NULL|             9|        2020-01-26|    2020-01-30|   2020-02-15|         NULL|released|\n",
      "|1000000005|female|20s|  Korea|   Seoul|Seongbuk-gu|contact with patient| 1000000002|             2|              NULL|    2020-01-31|   2020-02-24|         NULL|released|\n",
      "+----------+------+---+-------+--------+-----------+--------------------+-----------+--------------+------------------+--------------+-------------+-------------+--------+\n",
      "\n"
     ]
    }
   ],
   "source": [
    "#lim_5rows = spark.sql(\"\"\" select top(5)* from patient_view  \"\"\")\n",
    "lim_5rows = spark.sql(\"\"\" select * from patient_view limit 5  \"\"\")\n",
    "\n",
    "lim_5rows.show()"
   ]
  },
  {
   "cell_type": "markdown",
   "id": "b70edf17",
   "metadata": {},
   "source": [
    "### Select the count of males and females in the dataset"
   ]
  },
  {
   "cell_type": "code",
   "execution_count": 49,
   "id": "00e9fd65",
   "metadata": {},
   "outputs": [
    {
     "name": "stdout",
     "output_type": "stream",
     "text": [
      "+------+-----+\n",
      "|   sex|count|\n",
      "+------+-----+\n",
      "|  NULL|    0|\n",
      "|female| 2218|\n",
      "|  male| 1825|\n",
      "+------+-----+\n",
      "\n"
     ]
    }
   ],
   "source": [
    "c_m_f = spark.sql(\"\"\" select sex, count(sex) count\n",
    "                      from patient_view\n",
    "                      group by sex\n",
    "\"\"\")\n",
    "c_m_f.show()"
   ]
  },
  {
   "cell_type": "markdown",
   "id": "73683674",
   "metadata": {},
   "source": [
    "### How many people did survive, and how many didn't?"
   ]
  },
  {
   "cell_type": "code",
   "execution_count": 50,
   "id": "1e5a3908",
   "metadata": {},
   "outputs": [
    {
     "name": "stdout",
     "output_type": "stream",
     "text": [
      "+--------+-----+\n",
      "|   state|count|\n",
      "+--------+-----+\n",
      "|isolated| 2158|\n",
      "|released| 2929|\n",
      "|deceased|   78|\n",
      "+--------+-----+\n",
      "\n"
     ]
    }
   ],
   "source": [
    "surv = spark.sql(\"\"\" select state, count(state) count\n",
    "                      from patient_view\n",
    "                      group by state\n",
    "\"\"\")\n",
    "surv.show()"
   ]
  },
  {
   "cell_type": "code",
   "execution_count": 51,
   "id": "872e5786-f610-4632-a4cc-0cc67136f24a",
   "metadata": {},
   "outputs": [
    {
     "name": "stdout",
     "output_type": "stream",
     "text": [
      "+-----------+------+\n",
      "|     status|number|\n",
      "+-----------+------+\n",
      "|not_survive|  2236|\n",
      "|    survive|  2929|\n",
      "+-----------+------+\n",
      "\n"
     ]
    }
   ],
   "source": [
    "surv2 = spark.sql(\"\"\" \n",
    "select\n",
    "    case\n",
    "        when state = 'released' then 'survive'\n",
    "        else 'not_survive'\n",
    "    end as status,\n",
    "    count(state) number\n",
    "from patient_view\n",
    "group by\n",
    "    case\n",
    "        when state = 'released' then 'survive'\n",
    "        else 'not_survive'\n",
    "    end\n",
    "\"\"\")\n",
    "\n",
    "surv2.show()"
   ]
  },
  {
   "cell_type": "markdown",
   "id": "d4424228",
   "metadata": {},
   "source": [
    "### Now, let's perform some preprocessing using SQL:\n",
    "1. Convert *age* column to double after removing the 's' at the end -- *hint: check SUBSTRING method*\n",
    "2. Select only the following columns: `['sex', 'age', 'province', 'state']`\n",
    "3. Store the result of the query in a new dataframe"
   ]
  },
  {
   "cell_type": "code",
   "execution_count": null,
   "id": "16994e4d",
   "metadata": {},
   "outputs": [],
   "source": []
  },
  {
   "cell_type": "code",
   "execution_count": null,
   "id": "d3cf4f0f",
   "metadata": {
    "scrolled": true
   },
   "outputs": [],
   "source": []
  },
  {
   "cell_type": "code",
   "execution_count": 7,
   "id": "791ec1b8",
   "metadata": {},
   "outputs": [],
   "source": [
    "query = spark.sql(\"\"\"\n",
    "select\n",
    "    sex,\n",
    "    cast(substring(age, 1, length(age) - 1) AS DOUBLE) AS age,\n",
    "    province,\n",
    "    state\n",
    "from\n",
    "    patient_view\n",
    "\"\"\")\n"
   ]
  },
  {
   "cell_type": "code",
   "execution_count": 8,
   "id": "61c70bc8",
   "metadata": {},
   "outputs": [
    {
     "name": "stdout",
     "output_type": "stream",
     "text": [
      "+------+----+--------+--------+\n",
      "|   sex| age|province|   state|\n",
      "+------+----+--------+--------+\n",
      "|  male|50.0|   Seoul|released|\n",
      "|  male|30.0|   Seoul|released|\n",
      "|  male|50.0|   Seoul|released|\n",
      "|  male|20.0|   Seoul|released|\n",
      "|female|20.0|   Seoul|released|\n",
      "|female|50.0|   Seoul|released|\n",
      "|  male|20.0|   Seoul|released|\n",
      "|  male|20.0|   Seoul|released|\n",
      "|  male|30.0|   Seoul|released|\n",
      "|female|60.0|   Seoul|released|\n",
      "|female|50.0|   Seoul|released|\n",
      "|  male|20.0|   Seoul|released|\n",
      "|  male|80.0|   Seoul|deceased|\n",
      "|female|60.0|   Seoul|released|\n",
      "|  male|70.0|   Seoul|released|\n",
      "|  male|70.0|   Seoul|released|\n",
      "|  male|70.0|   Seoul|released|\n",
      "|  male|20.0|   Seoul|released|\n",
      "|female|70.0|   Seoul|released|\n",
      "|female|70.0|   Seoul|released|\n",
      "+------+----+--------+--------+\n",
      "only showing top 20 rows\n",
      "\n"
     ]
    }
   ],
   "source": [
    "query.show()"
   ]
  },
  {
   "cell_type": "code",
   "execution_count": null,
   "id": "7a71806f",
   "metadata": {},
   "outputs": [],
   "source": [
    "\n",
    "\n",
    "result_df = spark.sql(query)"
   ]
  }
 ],
 "metadata": {
  "kernelspec": {
   "display_name": "Python 3 (ipykernel)",
   "language": "python",
   "name": "python3"
  },
  "language_info": {
   "codemirror_mode": {
    "name": "ipython",
    "version": 3
   },
   "file_extension": ".py",
   "mimetype": "text/x-python",
   "name": "python",
   "nbconvert_exporter": "python",
   "pygments_lexer": "ipython3",
   "version": "3.12.4"
  }
 },
 "nbformat": 4,
 "nbformat_minor": 5
}
